{
 "cells": [
  {
   "cell_type": "code",
   "execution_count": null,
   "id": "87f42df0-94f4-43ba-a4f6-d21643db1929",
   "metadata": {
    "panel-layout": {
     "height": 431.671875,
     "visible": true,
     "width": 100
    },
    "scrolled": true
   },
   "outputs": [],
   "source": [
    "import numpy as np\n",
    "import pandas as pd\n",
    "from sklearn.model_selection import train_test_split\n",
    "from sklearn.linear_model import LogisticRegression\n",
    "X = np.array([[25, 30, 0], [30, 40, 1], [25, 35, 0], [35, 45, 1]])\n",
    "y = np.array([0, 1, 0, 1])\n",
    "\n",
    "X_train,X_test,y_train,y_test=train_test_split(X,y,test_size=0.2,random_state=1)\n",
    "\n",
    "model = LogisticRegression()\n",
    "\n",
    "model.fit(X,y)\n",
    "accuracy=model.score(X_test,y_test)\n",
    "print(f\"Accuracy: {accuracy}\")\n",
    "\n",
    "X_test\n",
    "\n",
    "y_test\n",
    "\n",
    "user_age=float(input(\"\"))\n",
    "user_time_spent=float(input(\"\"))\n",
    "user_added_to_cart=int(input())\n",
    "user_data=np.array([[user_age,user_time_spent,user_added_to_cart]])\n",
    "prediction = model.predict(user_data)\n",
    "prediction"
   ]
  },
  {
   "cell_type": "code",
   "execution_count": null,
   "id": "aea9367b-ef94-4f6c-8298-7707faf84115",
   "metadata": {
    "panel-layout": {
     "height": 356.25,
     "visible": true,
     "width": 100
    }
   },
   "outputs": [],
   "source": [
    "import numpy as np\n",
    "import pandas as pd\n",
    "from sklearn.model_selection import train_test_split\n",
    "from sklearn.svm import SVC\n",
    "from sklearn.metrics import classification_report, accuracy_score\n",
    "\n",
    "\n",
    "data = {'Age':[30,25,35,20,40,55,32,28],'MonthlyCharges':[50,60,80,40,100,120,70,55],\"Churn\":[1,0,1,0,1,0,1,0]}\n",
    "df = pd.DataFrame(data)\n",
    "\n",
    "\n",
    "X=df[['Age','MonthlyCharges']]\n",
    "y=df[\"Churn\"]\n",
    "\n",
    "X_train,X_test,y_train,y_test=train_test_split(X,y,test_size=0.3,random_state=3)\n",
    "svc_model=SVC(kernel='linear',C=1.0)\n",
    "svc_model.fit(X_train,y_train)\n",
    "\n",
    "y_pred = svc_model.predict(X_test)\n",
    "print(\"Accuracy:\", accuracy_score(y_test, y_pred))\n",
    "print(\"Classification Report:\")\n",
    "print(classification_report(y_test, y_pred))"
   ]
  },
  {
   "cell_type": "code",
   "execution_count": null,
   "id": "f07f0de4-1f55-4d0d-9ce4-0e038c1be7fb",
   "metadata": {},
   "outputs": [],
   "source": [
    "import numpy as np\n",
    "import pandas as pd\n",
    "from sklearn.model_selection import train_test_split\n",
    "from sklearn.preprocessing import StandardScaler\n",
    "from sklearn.neighbors import KNeighborsClassifier\n",
    "data = np.array([[25, 50000, 2], [30, 80000, 1], [35, 60000, 3], [20, 30000, 2], [40, 90000, 1], [45, 75000, 2]])\n",
    "labels = np.array([1, 2, 1, 0, 2, 1])\n",
    "X_train, X_test, y_train, y_test = train_test_split(data, labels, test_size=0.2, random_state=42)\n",
    "scaler = StandardScaler()\n",
    "X_train = scaler.fit_transform(X_train)\n",
    "X_test = scaler.transform(X_test)\n",
    "knn = KNeighborsClassifier(n_neighbors=3)\n",
    "knn.fit(X_train, y_train)\n",
    "accuracy = knn.score(X_test, y_test)\n",
    "print(accuracy)\n",
    "user_input=[[32,70000,2]]\n",
    "user_input_scaled=scaler.fit_transform(user_input)\n",
    "knn.predict(user_input_scaled)"
   ]
  },
  {
   "cell_type": "code",
   "execution_count": null,
   "id": "2a28a937-86e8-460c-8e5c-a582d8f3b8e2",
   "metadata": {},
   "outputs": [],
   "source": [
    "import numpy as np\n",
    "import pandas as pd\n",
    "from sklearn.feature_extraction.text import CountVectorizer\n",
    "from sklearn.naive_bayes import MultinomialNB\n",
    "reviews =[\"The product is excellent and works perfectly\",\n",
    "\"the product is not good, very disappointing\",\n",
    "\"terrible product and waste of money\",\n",
    "\"i love this product and it is amazing\",\"Saiyyam\"]\n",
    "sentiments = np.array ([1,0,0,1,1])\n",
    "vectorizer = CountVectorizer()\n",
    "X=vectorizer.fit_transform(reviews)\n",
    "classifier = MultinomialNB()\n",
    "classifier.fit(X,sentiments)\n",
    "def classify_new_review(review):\n",
    "    review_vectorized = vectorizer.transform([review])\n",
    "    prediction=classifier.predict(review_vectorized)\n",
    "    if prediction[0]==1:\n",
    "        return \"Postive\"\n",
    "    else:\n",
    "        return \"Negative\"\n",
    "user_review = input(\"Enter your review: \")\n",
    "result = classify_new_review(user_review)\n",
    "print(result)"
   ]
  },
  {
   "cell_type": "code",
   "execution_count": null,
   "id": "6f8ec36f-15e5-4e72-b94d-8e1b9b06f0d6",
   "metadata": {},
   "outputs": [],
   "source": [
    "import numpy as np\n",
    "import pandas as pd\n",
    "from sklearn.tree import DecisionTreeClassifier\n",
    "from sklearn.model_selection import train_test_split\n",
    "from sklearn.metrics import accuracy_score\n",
    "X=np.array([[25,50000,3],[35,90000,2],[40,60000,5],[45,80000,3],[20,30000,2],[55,120000,4],[28,40000,1],[32,100000,3],[38,75000,2]])\n",
    "y=np.array([0,1,1,0,1,0,1,0,1])\n",
    "X_train,X_test,y_train,y_test=train_test_split(X,y,test_size=0.2,random_state=42)\n",
    "model=DecisionTreeClassifier()\n",
    "model.fit(X_train,y_train)\n",
    "y_pred = model.predict(X_test)\n",
    "accuracy=accuracy_score(y_test,y_pred)\n",
    "age=float(input())\n",
    "income=float(input())\n",
    "education=int(input())\n",
    "user_input=np.array([[age,income,education]])\n",
    "print(model.predict(user_input))"
   ]
  },
  {
   "cell_type": "code",
   "execution_count": null,
   "id": "6d4ff7f7-08a6-4ee4-8898-2174c8433191",
   "metadata": {},
   "outputs": [],
   "source": [
    "import numpy as np\n",
    "import pandas as pd\n",
    "from sklearn.model_selection import train_test_split\n",
    "from sklearn.ensemble import RandomForestClassifier\n",
    "from sklearn.metrics import accuracy_score\n",
    "from sklearn.preprocessing import LabelEncoder\n",
    "data = {'Age': [25,35,45,20,30,50,40,55, 60,35], 'Gender': ['M','F','M',\"M\",'F','F','F','M','F',\"F\"],'Estimated_Salary':[30000,40000,60000,20000,35000,80000,45000,90000,100000,50000],'Purchased':[1, 0, 0, 0, 1, 1, 0, 0, 1, 1]}\n",
    "df=pd.DataFrame(data)\n",
    "label_encoder=LabelEncoder()\n",
    "df['Gender']=label_encoder.fit_transform(df['Gender'])\n",
    "print(df)\n",
    "\n",
    "X=df.drop(columns=['Purchased'])\n",
    "y=df['Purchased']\n",
    "X_train,X_test,y_train,y_test=train_test_split(X,y,test_size=0.2,random_state=42)\n",
    "rf_classifier=RandomForestClassifier(n_estimators=100,random_state=42)\n",
    "rf_classifier.fit(X_train,y_train)\n",
    "y_pred=rf_classifier.predict(X_test)\n",
    "print(accuracy_score(y_test,y_pred))"
   ]
  },
  {
   "cell_type": "code",
   "execution_count": null,
   "id": "801a77bc-cd36-4deb-8a64-ed9329194bc5",
   "metadata": {},
   "outputs": [],
   "source": [
    "import pandas as pd\n",
    "from sklearn.model_selection import train_test_split\n",
    "from sklearn.ensemble import GradientBoostingRegressor \n",
    "from sklearn.metrics import mean_squared_error\n",
    "\n",
    "data = {'SquareFootage': [1500, 2000, 1200, 1800,1350],\n",
    "'Bedrooms': [3,4,2,3,3],\n",
    "'Bathrooms': [2,2.5,1.5,2,2],\n",
    "'Location': ['Suburb', 'City', 'Rural', 'City', 'Suburb'],\n",
    "'Price': [25000000, 30000000,18000000, 28000000, 22000000]}\n",
    "df = pd.DataFrame(data)\n",
    "df=pd.get_dummies(df,columns=['Location'])\n",
    "print(df)\n",
    "\n",
    "X=df.drop('Price',axis=1)\n",
    "y=df['Price']\n",
    "X_train,X_test,y_train,y_test=train_test_split(X,y,test_size=0.2,random_state=42)\n",
    "model=GradientBoostingRegressor()\n",
    "model.fit(X_train,y_train)\n",
    "y_pred=model.predict(X_test)\n",
    "mse=mean_squared_error(y_test,y_pred)\n",
    "print(mse)\n",
    "\n",
    "sq_foot=float(input())\n",
    "bedrooms=int(input())\n",
    "bathrooms=float(input())\n",
    "location=input(\"Suburb/City/Rural\")\n",
    "\n",
    "input_location=[0,0,0]\n",
    "if location=='Suburb':\n",
    "    input_location[0]=1\n",
    "elif location=='City':\n",
    "    input_location[1]=1\n",
    "elif location=='Rural':\n",
    "    input_location[2]=1\n",
    "\n",
    "user_input = pd.DataFrame({\n",
    "    'SquareFootage': [sq_foot],\n",
    "    'Bedrooms': [bedrooms],\n",
    "    'Bathrooms': [bathrooms],\n",
    "    'Location_City': [input_location[1]],\n",
    "    'Location_Rural': [input_location[2]],\n",
    "    'Location_Suburb': [input_location[0]]\n",
    "})\n",
    "\n",
    "predicted_price = model.predict(user_input)\n",
    "print(f\"Predicted Price: {predicted_price[0]}\")"
   ]
  },
  {
   "cell_type": "code",
   "execution_count": null,
   "id": "e5411655-1f88-484a-bc93-3c9d9ac20598",
   "metadata": {},
   "outputs": [],
   "source": [
    "import pandas as pd\n",
    "import numpy as np\n",
    "from sklearn.model_selection import train_test_split\n",
    "from sklearn.neural_network import MLPClassifier\n",
    "from sklearn.preprocessing import LabelEncoder\n",
    "hours_studied = [2.5, 1.5, 3.0, 1.8, 4.0, 2.0, 3.5, 2.7]\n",
    "prev_exam_score = [80, 70, 75, 60, 80, 90, 85, 65]\n",
    "exam_outcome = ['Pass', 'Fail', 'Pass', 'Fail', 'Pass', 'Pass', 'Fail', 'Pass']\n",
    "\n",
    "data = {\n",
    "    'Hours_Studied': hours_studied,\n",
    "    'Prev_Exam_Score': prev_exam_score,\n",
    "    'Exam_Outcome': exam_outcome\n",
    "}\n",
    "\n",
    "df = pd.DataFrame(data)\n",
    "print(df)\n",
    "\n",
    "\n",
    "label_encoder = LabelEncoder()\n",
    "encoded_exam_outcome = label_encoder.fit_transform(exam_outcome)\n",
    "\n",
    "X=np.column_stack((hours_studied,prev_exam_score))\n",
    "y=encoded_exam_outcome\n",
    "clf=MLPClassifier(hidden_layer_sizes=(4,),activation='logistic',max_iter=1000, random_state = 42)\n",
    "clf.fit(X,y)\n",
    "\n",
    "new_student_data = np.array([[2.0,78]])\n",
    "predicted_outcome = clf.predict(new_student_data)\n",
    "\n",
    "predicted_outcome_decode = label_encoder.inverse_transform(predicted_outcome)\n",
    "print(f\"Prediceted Exam Outcome for the new student: {predicted_outcome_decode[0]}\")"
   ]
  },
  {
   "cell_type": "code",
   "execution_count": null,
   "id": "9d8bc7af-5553-4795-8997-6c4362672a1b",
   "metadata": {},
   "outputs": [],
   "source": [
    "import pandas as pd\n",
    "import numpy as np\n",
    "from sklearn.model_selection import train_test_split\n",
    "import matplotlib.pyplot as plt\n",
    "from sklearn.cluster import KMeans\n",
    "import time\n",
    "print(time.time())\n",
    "#np.random.seed(int(time.time()))\n",
    "data = {\"AnnualIncome\": np.random.randint(30000,100000,100),\"SpendingScore\": np.random.randint(1,100,100)}\n",
    "df = pd.DataFrame(data)\n",
    "print(df)\n",
    "plt.scatter(df['AnnualIncome'],df['SpendingScore'])\n",
    "plt.title('Customer Data - Annual income vs spending score')\n",
    "plt.xlabel(\"Annual Income\")\n",
    "plt.ylabel(\"Spending Score\")\n",
    "plt.show()\n",
    "\n",
    "X = df.values\n",
    "kmeans = KMeans(n_clusters = 3, random_state=1000000)\n",
    "df['Cluster']=kmeans.fit_predict(X)\n",
    "\n",
    "print(df)\n",
    "\n",
    "plt.scatter(df['AnnualIncome'],df['SpendingScore'],c=df['Cluster'],cmap='rainbow')\n",
    "plt.title('KMeans Clustering - Annual income vs spending score')\n",
    "plt.xlabel(\"Annual Income\")\n",
    "plt.ylabel(\"Spending Score\")\n",
    "plt.show()\n",
    "\n",
    "user_input={'AnnualIncome':[75000],'SpendingScore':[70]}\n",
    "user_df = pd.DataFrame(user_input)\n",
    "user_cluster = kmeans.predict(user_df.values)\n",
    "print(f\"The user belongs to Cluster {user_cluster[0]}\")\n",
    "\n",
    "\n",
    "plt.scatter(df['AnnualIncome'], df['SpendingScore'], c=df['Cluster'], cmap='rainbow', alpha=0.5)\n",
    "plt.title('KMeans Clustering - Annual income vs spending score')\n",
    "plt.xlabel(\"Annual Income\")\n",
    "plt.ylabel(\"Spending Score\")\n",
    "plt.scatter(user_df['AnnualIncome'], user_df['SpendingScore'], color='black', marker='X', s=100, label='User Input')\n",
    "plt.legend()\n",
    "plt.show()"
   ]
  },
  {
   "cell_type": "code",
   "execution_count": null,
   "id": "34355b76-d221-4f1e-aa57-4752042a95dc",
   "metadata": {},
   "outputs": [],
   "source": [
    "import pandas as pd\n",
    "import numpy as np\n",
    "from sklearn.model_selection import train_test_split\n",
    "import matplotlib.pyplot as plt\n",
    "from sklearn.cluster import AgglomerativeClustering\n",
    "from sklearn.preprocessing import StandardScaler\n",
    "\n",
    "np.random.seed(42)\n",
    "data = pd.DataFrame({'Age': np.random.randint(18, 65, 100), \n",
    "                     'Income': np.random.randint(30000, 100000, 100), \n",
    "                     'SpendingScore': np.random.randint(1, 100, 100)})\n",
    "\n",
    "scaler = StandardScaler()\n",
    "scaled_data = scaler.fit_transform(data)\n",
    "\n",
    "clustering = AgglomerativeClustering(n_clusters=3, metric='euclidean', linkage='ward')\n",
    "data['Cluster'] = clustering.fit_predict(scaled_data)\n",
    "\n",
    "plt.scatter(data['Income'], data['SpendingScore'], c=data['Cluster'], cmap='viridis', alpha=0.5)\n",
    "plt.xlabel('Income')\n",
    "plt.ylabel('Spending Score')\n",
    "plt.title('Customer Segmentation')\n",
    "plt.show()\n",
    "\n",
    "new_customer = pd.DataFrame({'Age': [30], 'Income': [50000], 'SpendingScore': [70]})\n",
    "\n",
    "# Include new data point in the original data\n",
    "combined_data = pd.concat([data[['Age', 'Income', 'SpendingScore']], new_customer], ignore_index=True)\n",
    "scaled_combined_data = scaler.fit_transform(combined_data)\n",
    "\n",
    "# Refit the model to the combined data\n",
    "new_clustering = AgglomerativeClustering(n_clusters=3, metric='euclidean', linkage='ward')\n",
    "combined_clusters = new_clustering.fit_predict(scaled_combined_data)\n",
    "\n",
    "# Get the cluster of the new data point\n",
    "new_customer_cluster = combined_clusters[-1]\n",
    "print(f\"The new customer belongs to cluster {new_customer_cluster}\")\n",
    "\n",
    "# Plot the clustered data including the new data point\n",
    "plt.scatter(combined_data['Income'], combined_data['SpendingScore'], c=combined_clusters, cmap='viridis', alpha=0.5)\n",
    "plt.scatter(new_customer['Income'], new_customer['SpendingScore'], color='black', marker='1', s=100, label='New Customer')\n",
    "plt.xlabel('Income')\n",
    "plt.ylabel('Spending Score')\n",
    "plt.title('Customer Segmentation')\n",
    "plt.legend()\n",
    "plt.show()\n"
   ]
  },
  {
   "cell_type": "code",
   "execution_count": 1,
   "id": "01d9152d-4f41-4009-8b95-5f797e7c0e82",
   "metadata": {},
   "outputs": [],
   "source": [
    "# DBSCAN - Density based spatial clustering of application with noise\n",
    "import numpy as np\n",
    "import pandas as pd\n",
    "from sklearn.preprocessing import StandardScaler\n",
    "from sklearn.cluster import DBSCAN\n",
    "import matplotlib.pyplot as plt"
   ]
  },
  {
   "cell_type": "code",
   "execution_count": 9,
   "id": "8d899113-2c21-463e-b4c8-daadf50a814e",
   "metadata": {},
   "outputs": [],
   "source": [
    "np.random.seed(42)\n",
    "data=np.random.rand(100,2)\n",
    "scaler=StandardScaler()\n",
    "data_scaled=scaler.fit_transform(data)\n",
    "dbscan = DBSCAN(eps=.3,min_samples=5)\n",
    "cluster = dbscan.fit_predict(data_scaled)"
   ]
  },
  {
   "cell_type": "code",
   "execution_count": 24,
   "id": "ca28e41e-9974-4e49-b39a-ce6affbf0a78",
   "metadata": {},
   "outputs": [
    {
     "data": {
      "image/png": "[encoded data removed]",
      "text/plain": [
       "<Figure size 640x480 with 1 Axes>"
      ]
     },
     "metadata": {},
     "output_type": "display_data"
    }
   ],
   "source": [
    "plt.scatter(data[:,0],data[:,1],c=cluster,cmap='viridis',marker='3',s=50)\n",
    "plt.title('DBSCAN CLUSTERING')\n",
    "plt.xlabel('Feature 1')\n",
    "plt.ylabel('Feature 2')\n",
    "plt.show()"
   ]
  },
  {
   "cell_type": "code",
   "execution_count": 30,
   "id": "42f1903d-d1be-412c-9781-a97d406bff9e",
   "metadata": {},
   "outputs": [],
   "source": [
    "result_df=pd.DataFrame({'Feature 1':data[:,0],'Feature 2':data[:,1],'Cluster':cluster})"
   ]
  },
  {
   "cell_type": "code",
   "execution_count": 34,
   "id": "455bdf3b-6c92-41a2-b397-8937fcdbf4d8",
   "metadata": {},
   "outputs": [
    {
     "name": "stdout",
     "output_type": "stream",
     "text": [
      "The number of unique clusters are 8\n",
      "The size of each cluster Cluster\n",
      "-1    52\n",
      " 0     9\n",
      " 3     9\n",
      " 1     8\n",
      " 6     7\n",
      " 5     5\n",
      " 4     5\n",
      " 2     5\n",
      "Name: count, dtype: int64\n"
     ]
    }
   ],
   "source": [
    "print(f\"The number of unique clusters are {len(np.unique(cluster))}\")\n",
    "print(f\"The size of each cluster {result_df['Cluster'].value_counts()}\")"
   ]
  },
  {
   "cell_type": "code",
   "execution_count": 52,
   "id": "81db41ab-af9d-4129-859c-fa15f6469143",
   "metadata": {},
   "outputs": [
    {
     "name": "stdout",
     "output_type": "stream",
     "text": [
      "-1\n"
     ]
    }
   ],
   "source": [
    "user_input=[[.25,0.1]]\n",
    "user_input_scaled = scaler.transform(user_input)\n",
    "user_cluster=dbscan.fit_predict(user_input_scaled)\n",
    "print(f\"{user_cluster[0]}\")"
   ]
  },
  {
   "cell_type": "code",
   "execution_count": null,
   "id": "7a7c4b1b-d7c6-468c-a367-9bd8b734b469",
   "metadata": {},
   "outputs": [],
   "source": []
  }
 ],
 "metadata": {
  "kernelspec": {
   "display_name": "Python 3 (ipykernel)",
   "language": "python",
   "name": "python3"
  },
  "language_info": {
   "codemirror_mode": {
    "name": "ipython",
    "version": 3
   },
   "file_extension": ".py",
   "mimetype": "text/x-python",
   "name": "python",
   "nbconvert_exporter": "python",
   "pygments_lexer": "ipython3",
   "version": "3.11.7"
  },
  "panel-cell-order": [
   "87f42df0-94f4-43ba-a4f6-d21643db1929",
   "aea9367b-ef94-4f6c-8298-7707faf84115"
  ]
 },
 "nbformat": 4,
 "nbformat_minor": 5
}
