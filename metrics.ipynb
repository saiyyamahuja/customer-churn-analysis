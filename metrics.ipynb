{
 "cells": [
  {
   "cell_type": "code",
   "execution_count": 3,
   "id": "e4583d73-2bc1-4bf3-8097-a3a3179d0b1c",
   "metadata": {},
   "outputs": [
    {
     "data": {
      "text/html": [
       "<div>\n",
       "<style scoped>\n",
       "    .dataframe tbody tr th:only-of-type {\n",
       "        vertical-align: middle;\n",
       "    }\n",
       "\n",
       "    .dataframe tbody tr th {\n",
       "        vertical-align: top;\n",
       "    }\n",
       "\n",
       "    .dataframe thead th {\n",
       "        text-align: right;\n",
       "    }\n",
       "</style>\n",
       "<table border=\"1\" class=\"dataframe\">\n",
       "  <thead>\n",
       "    <tr style=\"text-align: right;\">\n",
       "      <th></th>\n",
       "      <th>Time</th>\n",
       "      <th>V1</th>\n",
       "      <th>V2</th>\n",
       "      <th>V3</th>\n",
       "      <th>V4</th>\n",
       "      <th>V5</th>\n",
       "      <th>V6</th>\n",
       "      <th>V7</th>\n",
       "      <th>V8</th>\n",
       "      <th>V9</th>\n",
       "      <th>...</th>\n",
       "      <th>V21</th>\n",
       "      <th>V22</th>\n",
       "      <th>V23</th>\n",
       "      <th>V24</th>\n",
       "      <th>V25</th>\n",
       "      <th>V26</th>\n",
       "      <th>V27</th>\n",
       "      <th>V28</th>\n",
       "      <th>Amount</th>\n",
       "      <th>Class</th>\n",
       "    </tr>\n",
       "  </thead>\n",
       "  <tbody>\n",
       "    <tr>\n",
       "      <th>0</th>\n",
       "      <td>0.0</td>\n",
       "      <td>-1.359807</td>\n",
       "      <td>-0.072781</td>\n",
       "      <td>2.536347</td>\n",
       "      <td>1.378155</td>\n",
       "      <td>-0.338321</td>\n",
       "      <td>0.462388</td>\n",
       "      <td>0.239599</td>\n",
       "      <td>0.098698</td>\n",
       "      <td>0.363787</td>\n",
       "      <td>...</td>\n",
       "      <td>-0.018307</td>\n",
       "      <td>0.277838</td>\n",
       "      <td>-0.110474</td>\n",
       "      <td>0.066928</td>\n",
       "      <td>0.128539</td>\n",
       "      <td>-0.189115</td>\n",
       "      <td>0.133558</td>\n",
       "      <td>-0.021053</td>\n",
       "      <td>149.62</td>\n",
       "      <td>0</td>\n",
       "    </tr>\n",
       "    <tr>\n",
       "      <th>1</th>\n",
       "      <td>0.0</td>\n",
       "      <td>1.191857</td>\n",
       "      <td>0.266151</td>\n",
       "      <td>0.166480</td>\n",
       "      <td>0.448154</td>\n",
       "      <td>0.060018</td>\n",
       "      <td>-0.082361</td>\n",
       "      <td>-0.078803</td>\n",
       "      <td>0.085102</td>\n",
       "      <td>-0.255425</td>\n",
       "      <td>...</td>\n",
       "      <td>-0.225775</td>\n",
       "      <td>-0.638672</td>\n",
       "      <td>0.101288</td>\n",
       "      <td>-0.339846</td>\n",
       "      <td>0.167170</td>\n",
       "      <td>0.125895</td>\n",
       "      <td>-0.008983</td>\n",
       "      <td>0.014724</td>\n",
       "      <td>2.69</td>\n",
       "      <td>0</td>\n",
       "    </tr>\n",
       "    <tr>\n",
       "      <th>2</th>\n",
       "      <td>1.0</td>\n",
       "      <td>-1.358354</td>\n",
       "      <td>-1.340163</td>\n",
       "      <td>1.773209</td>\n",
       "      <td>0.379780</td>\n",
       "      <td>-0.503198</td>\n",
       "      <td>1.800499</td>\n",
       "      <td>0.791461</td>\n",
       "      <td>0.247676</td>\n",
       "      <td>-1.514654</td>\n",
       "      <td>...</td>\n",
       "      <td>0.247998</td>\n",
       "      <td>0.771679</td>\n",
       "      <td>0.909412</td>\n",
       "      <td>-0.689281</td>\n",
       "      <td>-0.327642</td>\n",
       "      <td>-0.139097</td>\n",
       "      <td>-0.055353</td>\n",
       "      <td>-0.059752</td>\n",
       "      <td>378.66</td>\n",
       "      <td>0</td>\n",
       "    </tr>\n",
       "  </tbody>\n",
       "</table>\n",
       "<p>3 rows × 31 columns</p>\n",
       "</div>"
      ],
      "text/plain": [
       "   Time        V1        V2        V3        V4        V5        V6        V7  \\\n",
       "0   0.0 -1.359807 -0.072781  2.536347  1.378155 -0.338321  0.462388  0.239599   \n",
       "1   0.0  1.191857  0.266151  0.166480  0.448154  0.060018 -0.082361 -0.078803   \n",
       "2   1.0 -1.358354 -1.340163  1.773209  0.379780 -0.503198  1.800499  0.791461   \n",
       "\n",
       "         V8        V9  ...       V21       V22       V23       V24       V25  \\\n",
       "0  0.098698  0.363787  ... -0.018307  0.277838 -0.110474  0.066928  0.128539   \n",
       "1  0.085102 -0.255425  ... -0.225775 -0.638672  0.101288 -0.339846  0.167170   \n",
       "2  0.247676 -1.514654  ...  0.247998  0.771679  0.909412 -0.689281 -0.327642   \n",
       "\n",
       "        V26       V27       V28  Amount  Class  \n",
       "0 -0.189115  0.133558 -0.021053  149.62      0  \n",
       "1  0.125895 -0.008983  0.014724    2.69      0  \n",
       "2 -0.139097 -0.055353 -0.059752  378.66      0  \n",
       "\n",
       "[3 rows x 31 columns]"
      ]
     },
     "execution_count": 3,
     "metadata": {},
     "output_type": "execute_result"
    }
   ],
   "source": [
    "import pandas as pd\n",
    "import matplotlib.pylab as plt\n",
    "import numpy as np\n",
    "df=pd.read_csv(\"creditcard.csv\")[:80000]\n",
    "df.head(3)"
   ]
  },
  {
   "cell_type": "code",
   "execution_count": 4,
   "id": "9a6e3120-11b1-4e06-8724-1c565990930e",
   "metadata": {},
   "outputs": [],
   "source": [
    "X=df.drop(columns=['Time','Amount','Class']).values\n",
    "y=df['Class'].values"
   ]
  },
  {
   "cell_type": "code",
   "execution_count": 5,
   "id": "07b46e24-6f5d-4ebb-adeb-e6c1943ac7c4",
   "metadata": {},
   "outputs": [
    {
     "name": "stdout",
     "output_type": "stream",
     "text": [
      "(80000, 28) (80000,) 196\n"
     ]
    }
   ],
   "source": [
    "print(f\"{X.shape} {y.shape} {y.sum()}\")"
   ]
  },
  {
   "cell_type": "code",
   "execution_count": 9,
   "id": "974af703-8278-4e33-8479-adc66a5f5da8",
   "metadata": {},
   "outputs": [
    {
     "ename": "NameError",
     "evalue": "name 'make_scorer' is not defined",
     "output_type": "error",
     "traceback": [
      "\u001b[0;31m---------------------------------------------------------------------------\u001b[0m",
      "\u001b[0;31mNameError\u001b[0m                                 Traceback (most recent call last)",
      "Cell \u001b[0;32mIn[9], line 5\u001b[0m\n\u001b[1;32m      3\u001b[0m     precision \u001b[38;5;241m=\u001b[39m precision_score(y_true, y_pred)\n\u001b[1;32m      4\u001b[0m     \u001b[38;5;28;01mreturn\u001b[39;00m \u001b[38;5;28mmin\u001b[39m(recall, precision)\n\u001b[0;32m----> 5\u001b[0m \u001b[43mmake_scorer\u001b[49m(min_recall_precision, greater_is_better\u001b[38;5;241m=\u001b[39m\u001b[38;5;28;01mFalse\u001b[39;00m)\n",
      "\u001b[0;31mNameError\u001b[0m: name 'make_scorer' is not defined"
     ]
    }
   ],
   "source": [
    "def min_recall_precision(y_true, y_pred):\n",
    "    recall = recall_score(y_true, y_pred)\n",
    "    precision = precision_score(y_true, y_pred)\n",
    "    return min(recall, precision)\n",
    "make_scorer(min_recall_precision, greater_is_better=False)"
   ]
  },
  {
   "cell_type": "code",
   "execution_count": 11,
   "id": "eaf68779-683b-40d7-9f6c-b63b44c772b3",
   "metadata": {},
   "outputs": [
    {
     "data": {
      "text/plain": [
       "172"
      ]
     },
     "execution_count": 11,
     "metadata": {},
     "output_type": "execute_result"
    }
   ],
   "source": [
    "from sklearn.linear_model import LogisticRegression\n",
    "mod=LogisticRegression(class_weight={0:1,1:2},max_iter=1000)\n",
    "mod.fit(X,y).predict(X).sum()"
   ]
  },
  {
   "cell_type": "code",
   "execution_count": 12,
   "id": "0c1a9d13-dca5-4342-b33b-61c40d835f03",
   "metadata": {},
   "outputs": [
    {
     "ename": "NameError",
     "evalue": "name 'grid' is not defined",
     "output_type": "error",
     "traceback": [
      "\u001b[0;31m---------------------------------------------------------------------------\u001b[0m",
      "\u001b[0;31mNameError\u001b[0m                                 Traceback (most recent call last)",
      "Cell \u001b[0;32mIn[12], line 2\u001b[0m\n\u001b[1;32m      1\u001b[0m \u001b[38;5;28;01mfrom\u001b[39;00m \u001b[38;5;21;01msklearn\u001b[39;00m\u001b[38;5;21;01m.\u001b[39;00m\u001b[38;5;21;01mmetrics\u001b[39;00m \u001b[38;5;28;01mimport\u001b[39;00m precision_score,recall_score,make_scorer\n\u001b[0;32m----> 2\u001b[0m precision_score(y,\u001b[43mgrid\u001b[49m\u001b[38;5;241m.\u001b[39mpredict(X))\n\u001b[1;32m      3\u001b[0m recall_score(y,grid\u001b[38;5;241m.\u001b[39mpredict(X))\n",
      "\u001b[0;31mNameError\u001b[0m: name 'grid' is not defined"
     ]
    }
   ],
   "source": [
    "from sklearn.metrics import precision_score,recall_score,make_scorer\n",
    "precision_score(y,grid.predict(X))\n",
    "recall_score(y,grid.predict(X))"
   ]
  },
  {
   "cell_type": "code",
   "execution_count": null,
   "id": "8fe5d5ed-fa74-43c1-9df5-eb884bea96f3",
   "metadata": {},
   "outputs": [],
   "source": [
    "from collections import Counter\n",
    "from sklearn.ensemble import IsolationForest\n",
    "mod=IsolationForest().fit(X)\n",
    "mod.predict(X)\n",
    "Counter(mod.predict(X))\n",
    "np.where(mod.predict(X)==-1,1,0)"
   ]
  },
  {
   "cell_type": "code",
   "execution_count": null,
   "id": "c85e62d7-feb5-4ef7-bab1-7d1e40a8b563",
   "metadata": {},
   "outputs": [],
   "source": [
    "from sklearn.model_selection import GridSearchCV\n",
    "param_grid = {'class_weight': [{0: 1, 1: v} for v in np.linspace(1,20,30)]}\n",
    "def min_recall_precision(est, X, y_true, sample_weight=None):\n",
    "    y_pred=est.predict(X)\n",
    "    recall = recall_score(y_true, y_pred)\n",
    "    precision = precision_score(y_true, y_pred)\n",
    "    return min(recall, precision)\n",
    "grid = GridSearchCV(\n",
    "    estimator=LogisticRegression(max_iter=1000),\n",
    "    scoring={'precision':make_scorer(precision_score),'recall_score':make_scorer(recall_score),'min_both': min_recall_precision},\n",
    "    refit='min_both',\n",
    "    param_grid=param_grid,\n",
    "    return_train_score=True,\n",
    "    cv=10,\n",
    "    n_jobs=-1\n",
    ")\n",
    "grid.fit(X, y,sample_weight=np.log(1+df['Amount']))\n",
    "#make_scorer(min_recall_precision, greater_is_better=False)\n",
    "# ?make_scorer"
   ]
  },
  {
   "cell_type": "code",
   "execution_count": null,
   "id": "1b9e3786-16d2-4b8d-afff-9938b4504946",
   "metadata": {},
   "outputs": [],
   "source": [
    "pd.DataFrame(grid.cv_results_)"
   ]
  },
  {
   "cell_type": "code",
   "execution_count": 17,
   "id": "c0d31abe-c0b2-42c3-a211-2e8fe99c0807",
   "metadata": {},
   "outputs": [],
   "source": [
    "#lr=LogisticRegression\n",
    "#??lr.score"
   ]
  },
  {
   "cell_type": "code",
   "execution_count": 19,
   "id": "5e842f33-d945-41e4-b8ba-f02ca4a4e94e",
   "metadata": {},
   "outputs": [],
   "source": [
    "#print(grid.cv_results_.keys())\n"
   ]
  },
  {
   "cell_type": "code",
   "execution_count": 21,
   "id": "2745601b-721a-49d0-a9eb-36eef70c1561",
   "metadata": {},
   "outputs": [],
   "source": [
    "#plt.figure(figsize=(12, 4))\n",
    "#df_results = pd.DataFrame(grid.cv_results_)\n",
    "#for score in ['mean_test_recall', 'mean_test_precision', 'mean_test_min_both']:\n",
    "#    plt.plot([_[1] for _ in df_results['param_class_weight']], \n",
    "#             df_results[score], \n",
    "#             label=score)\n",
    "#plt.legend();"
   ]
  },
  {
   "cell_type": "code",
   "execution_count": 23,
   "id": "89b33142-d04f-4f00-b4a0-b38addaad918",
   "metadata": {},
   "outputs": [],
   "source": [
    "s=make_scorer(min_recall_precision)\n",
    "#??s"
   ]
  },
  {
   "cell_type": "code",
   "execution_count": 25,
   "id": "680aed17-5e14-41fb-9c7e-c1e155bebfe4",
   "metadata": {},
   "outputs": [
    {
     "ename": "NameError",
     "evalue": "name 'GridSearchCV' is not defined",
     "output_type": "error",
     "traceback": [
      "\u001b[0;31m---------------------------------------------------------------------------\u001b[0m",
      "\u001b[0;31mNameError\u001b[0m                                 Traceback (most recent call last)",
      "Cell \u001b[0;32mIn[25], line 9\u001b[0m\n\u001b[1;32m      6\u001b[0m     preds \u001b[38;5;241m=\u001b[39m mod\u001b[38;5;241m.\u001b[39mpredict(X)\n\u001b[1;32m      7\u001b[0m     \u001b[38;5;28;01mreturn\u001b[39;00m recall_score(y, np\u001b[38;5;241m.\u001b[39mwhere(preds \u001b[38;5;241m==\u001b[39m \u001b[38;5;241m-\u001b[39m\u001b[38;5;241m1\u001b[39m, \u001b[38;5;241m1\u001b[39m, \u001b[38;5;241m0\u001b[39m))\n\u001b[0;32m----> 9\u001b[0m grid \u001b[38;5;241m=\u001b[39m \u001b[43mGridSearchCV\u001b[49m(\n\u001b[1;32m     10\u001b[0m     estimator\u001b[38;5;241m=\u001b[39mIsolationForest(),\n\u001b[1;32m     11\u001b[0m     param_grid\u001b[38;5;241m=\u001b[39m{\u001b[38;5;124m'\u001b[39m\u001b[38;5;124mcontamination\u001b[39m\u001b[38;5;124m'\u001b[39m: np\u001b[38;5;241m.\u001b[39mlinspace(\u001b[38;5;241m0.001\u001b[39m, \u001b[38;5;241m0.02\u001b[39m, \u001b[38;5;241m10\u001b[39m)},\n\u001b[1;32m     12\u001b[0m     scoring\u001b[38;5;241m=\u001b[39m{\u001b[38;5;124m'\u001b[39m\u001b[38;5;124mprecision\u001b[39m\u001b[38;5;124m'\u001b[39m: outlier_precision, \n\u001b[1;32m     13\u001b[0m              \u001b[38;5;124m'\u001b[39m\u001b[38;5;124mrecall\u001b[39m\u001b[38;5;124m'\u001b[39m: outlier_recall},\n\u001b[1;32m     14\u001b[0m     refit\u001b[38;5;241m=\u001b[39m\u001b[38;5;124m'\u001b[39m\u001b[38;5;124mprecision\u001b[39m\u001b[38;5;124m'\u001b[39m,\n\u001b[1;32m     15\u001b[0m     cv\u001b[38;5;241m=\u001b[39m\u001b[38;5;241m5\u001b[39m,\n\u001b[1;32m     16\u001b[0m     n_jobs\u001b[38;5;241m=\u001b[39m\u001b[38;5;241m-\u001b[39m\u001b[38;5;241m1\u001b[39m\n\u001b[1;32m     17\u001b[0m )\n\u001b[1;32m     18\u001b[0m grid\u001b[38;5;241m.\u001b[39mfit(X, y);\n\u001b[1;32m     20\u001b[0m plt\u001b[38;5;241m.\u001b[39mfigure(figsize\u001b[38;5;241m=\u001b[39m(\u001b[38;5;241m12\u001b[39m, \u001b[38;5;241m4\u001b[39m))\n",
      "\u001b[0;31mNameError\u001b[0m: name 'GridSearchCV' is not defined"
     ]
    }
   ],
   "source": [
    "def outlier_precision(mod, X, y):\n",
    "    preds = mod.predict(X)\n",
    "    return precision_score(y, np.where(preds == -1, 1, 0))\n",
    "\n",
    "def outlier_recall(mod, X, y):\n",
    "    preds = mod.predict(X)\n",
    "    return recall_score(y, np.where(preds == -1, 1, 0))\n",
    "\n",
    "grid = GridSearchCV(\n",
    "    estimator=IsolationForest(),\n",
    "    param_grid={'contamination': np.linspace(0.001, 0.02, 10)},\n",
    "    scoring={'precision': outlier_precision, \n",
    "             'recall': outlier_recall},\n",
    "    refit='precision',\n",
    "    cv=5,\n",
    "    n_jobs=-1\n",
    ")\n",
    "grid.fit(X, y);\n",
    "\n",
    "plt.figure(figsize=(12, 4))\n",
    "df_results = pd.DataFrame(grid.cv_results_)\n",
    "for score in ['mean_test_recall', 'mean_test_precision']:\n",
    "    plt.plot(df_results['param_contamination'], \n",
    "             df_results[score], \n",
    "             label=score)\n",
    "plt.legend();"
   ]
  }
 ],
 "metadata": {
  "kernelspec": {
   "display_name": "Python 3 (ipykernel)",
   "language": "python",
   "name": "python3"
  },
  "language_info": {
   "codemirror_mode": {
    "name": "ipython",
    "version": 3
   },
   "file_extension": ".py",
   "mimetype": "text/x-python",
   "name": "python",
   "nbconvert_exporter": "python",
   "pygments_lexer": "ipython3",
   "version": "3.11.7"
  }
 },
 "nbformat": 4,
 "nbformat_minor": 5
}
